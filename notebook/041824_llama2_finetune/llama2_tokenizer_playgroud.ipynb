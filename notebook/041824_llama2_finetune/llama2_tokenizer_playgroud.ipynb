{
 "cells": [
  {
   "cell_type": "code",
   "execution_count": 15,
   "id": "e20217b6-8130-42ea-a576-12c5d7dbbf77",
   "metadata": {
    "tags": []
   },
   "outputs": [],
   "source": [
    "from transformers import AutoTokenizer, AutoModelForCausalLM, pipeline\n",
    "import torch"
   ]
  },
  {
   "cell_type": "code",
   "execution_count": 16,
   "id": "d73e474f-96da-46df-aa4c-40dd82051341",
   "metadata": {
    "tags": []
   },
   "outputs": [],
   "source": [
    "# import tokenizer for llama 2 7B\n",
    "model_id = 'meta-llama/Llama-2-7b-hf'\n",
    "\n",
    "tokenizer = AutoTokenizer.from_pretrained(model_id)"
   ]
  },
  {
   "cell_type": "code",
   "execution_count": 19,
   "id": "120788a2-23d6-4515-a251-7322abefec7a",
   "metadata": {
    "tags": []
   },
   "outputs": [
    {
     "name": "stdout",
     "output_type": "stream",
     "text": [
      "{'input_ids': [1, 7413, 17236, 294, 6210, 1582], 'attention_mask': [1, 1, 1, 1, 1, 1]}\n"
     ]
    }
   ],
   "source": [
    "kansas_token = tokenizer(\"Las Vegas speedway\")\n",
    "print(kansas_token)"
   ]
  },
  {
   "cell_type": "code",
   "execution_count": 28,
   "id": "79597efa-8030-427a-9aa2-a3b6babee205",
   "metadata": {
    "tags": []
   },
   "outputs": [
    {
     "name": "stdout",
     "output_type": "stream",
     "text": [
      "Las\n"
     ]
    }
   ],
   "source": [
    "decode = tokenizer.decode(7413)\n",
    "print(decode)"
   ]
  },
  {
   "cell_type": "code",
   "execution_count": null,
   "id": "f3a7c7ea-3038-439d-a97b-c6db7231e8ea",
   "metadata": {},
   "outputs": [],
   "source": []
  }
 ],
 "metadata": {
  "kernelspec": {
   "display_name": "Python 3 (ipykernel)",
   "language": "python",
   "name": "python3"
  },
  "language_info": {
   "codemirror_mode": {
    "name": "ipython",
    "version": 3
   },
   "file_extension": ".py",
   "mimetype": "text/x-python",
   "name": "python",
   "nbconvert_exporter": "python",
   "pygments_lexer": "ipython3",
   "version": "3.11.5"
  }
 },
 "nbformat": 4,
 "nbformat_minor": 5
}
