{
 "cells": [
  {
   "cell_type": "code",
   "execution_count": 1,
   "id": "93175db5-cb37-4ff0-adab-24738c544abc",
   "metadata": {
    "tags": []
   },
   "outputs": [],
   "source": [
    "import json\n",
    "import pandas as pd\n",
    "import matplotlib.pyplot as plt\n",
    "from sklearn.metrics import confusion_matrix\n",
    "#import os\n",
    "\n",
    "\n"
   ]
  },
  {
   "cell_type": "code",
   "execution_count": 2,
   "id": "6de626e2-77b8-4c6e-81c6-ac2b58554005",
   "metadata": {
    "tags": []
   },
   "outputs": [
    {
     "data": {
      "text/plain": [
       "[{'role': 'system',\n",
       "  'content': 'You are an radio transcript message transcript assisant, please classifer the following message'},\n",
       " {'role': 'user', 'content': ' I got a little bit maybe fast if anything'},\n",
       " {'role': 'target assiant', 'content': 'General Spotting'},\n",
       " {'role': 'assiant', 'content': 'Vehicle handling'}]"
      ]
     },
     "execution_count": 2,
     "metadata": {},
     "output_type": "execute_result"
    }
   ],
   "source": [
    "with open ('./eval_results/gen_result_pred_target_run6.json' , \"r\") as f:\n",
    "    results = json.load(f)\n",
    "\n",
    "results[10]"
   ]
  },
  {
   "cell_type": "code",
   "execution_count": 3,
   "id": "a801cbd0-7fd5-4528-94c1-228c40333752",
   "metadata": {
    "tags": []
   },
   "outputs": [],
   "source": [
    "# function to tranfer the list into the \n",
    "def result_json_to_df(json_list):\n",
    "    # create an empty dataframe\n",
    "    df = pd.DataFrame()\n",
    "    \n",
    "    # loop though all the json list to put it into an dataframe \n",
    "    for index, content in enumerate(json_list):\n",
    "        \n",
    "        temp_dict = {}\n",
    "        \n",
    "        # put every role and content into an list\n",
    "        for c_index, message in enumerate(content):\n",
    "            \n",
    "            temp_dict[message['role']] = message['content']\n",
    "            \n",
    "            #temp_list.append(temp_dict)\n",
    "            \n",
    "        # the single framce\n",
    "        info_df = pd.DataFrame([temp_dict])\n",
    "        \n",
    "        # append single dataframe into overall dataframe\n",
    "        df = pd.concat([df, info_df])\n",
    "        \n",
    "    \n",
    "    return df\n",
    "        \n",
    "        \n",
    "        "
   ]
  },
  {
   "cell_type": "code",
   "execution_count": 4,
   "id": "ec10c4f6-a138-4bd7-b17a-8124d0042163",
   "metadata": {
    "tags": []
   },
   "outputs": [
    {
     "data": {
      "text/html": [
       "<div>\n",
       "<style scoped>\n",
       "    .dataframe tbody tr th:only-of-type {\n",
       "        vertical-align: middle;\n",
       "    }\n",
       "\n",
       "    .dataframe tbody tr th {\n",
       "        vertical-align: top;\n",
       "    }\n",
       "\n",
       "    .dataframe thead th {\n",
       "        text-align: right;\n",
       "    }\n",
       "</style>\n",
       "<table border=\"1\" class=\"dataframe\">\n",
       "  <thead>\n",
       "    <tr style=\"text-align: right;\">\n",
       "      <th></th>\n",
       "      <th>index</th>\n",
       "      <th>system</th>\n",
       "      <th>user</th>\n",
       "      <th>target assiant</th>\n",
       "      <th>assiant</th>\n",
       "    </tr>\n",
       "  </thead>\n",
       "  <tbody>\n",
       "    <tr>\n",
       "      <th>971</th>\n",
       "      <td>0</td>\n",
       "      <td>You are an radio transcript message transcript...</td>\n",
       "      <td>Zero point zero zero zero zero. Amazing.</td>\n",
       "      <td>General Spotting</td>\n",
       "      <td>General Spotting</td>\n",
       "    </tr>\n",
       "    <tr>\n",
       "      <th>972</th>\n",
       "      <td>0</td>\n",
       "      <td>You are an radio transcript message transcript...</td>\n",
       "      <td>Amazing. Hell of a job Larson. You just got t...</td>\n",
       "      <td>General Spotting</td>\n",
       "      <td>General Spotting</td>\n",
       "    </tr>\n",
       "    <tr>\n",
       "      <th>973</th>\n",
       "      <td>0</td>\n",
       "      <td>You are an radio transcript message transcript...</td>\n",
       "      <td>down low right here. Just said it was the fiv...</td>\n",
       "      <td>General Spotting</td>\n",
       "      <td>General Spotting</td>\n",
       "    </tr>\n",
       "    <tr>\n",
       "      <th>974</th>\n",
       "      <td>0</td>\n",
       "      <td>You are an radio transcript message transcript...</td>\n",
       "      <td>Larson.</td>\n",
       "      <td>General Spotting</td>\n",
       "      <td>General Spotting</td>\n",
       "    </tr>\n",
       "    <tr>\n",
       "      <th>975</th>\n",
       "      <td>0</td>\n",
       "      <td>You are an radio transcript message transcript...</td>\n",
       "      <td>They said it twice. You are the winner. You j...</td>\n",
       "      <td>General Spotting</td>\n",
       "      <td>General Spotting</td>\n",
       "    </tr>\n",
       "  </tbody>\n",
       "</table>\n",
       "</div>"
      ],
      "text/plain": [
       "     index                                             system  \\\n",
       "971      0  You are an radio transcript message transcript...   \n",
       "972      0  You are an radio transcript message transcript...   \n",
       "973      0  You are an radio transcript message transcript...   \n",
       "974      0  You are an radio transcript message transcript...   \n",
       "975      0  You are an radio transcript message transcript...   \n",
       "\n",
       "                                                  user    target assiant  \\\n",
       "971           Zero point zero zero zero zero. Amazing.  General Spotting   \n",
       "972   Amazing. Hell of a job Larson. You just got t...  General Spotting   \n",
       "973   down low right here. Just said it was the fiv...  General Spotting   \n",
       "974                                            Larson.  General Spotting   \n",
       "975   They said it twice. You are the winner. You j...  General Spotting   \n",
       "\n",
       "              assiant  \n",
       "971  General Spotting  \n",
       "972  General Spotting  \n",
       "973  General Spotting  \n",
       "974  General Spotting  \n",
       "975  General Spotting  "
      ]
     },
     "execution_count": 4,
     "metadata": {},
     "output_type": "execute_result"
    }
   ],
   "source": [
    "df = result_json_to_df(results)\n",
    "df = df.reset_index()\n",
    "df.tail()"
   ]
  },
  {
   "cell_type": "code",
   "execution_count": 5,
   "id": "638ccd48-eafa-4e6d-b19a-283e6c18a036",
   "metadata": {
    "tags": []
   },
   "outputs": [
    {
     "data": {
      "text/html": [
       "<div>\n",
       "<style scoped>\n",
       "    .dataframe tbody tr th:only-of-type {\n",
       "        vertical-align: middle;\n",
       "    }\n",
       "\n",
       "    .dataframe tbody tr th {\n",
       "        vertical-align: top;\n",
       "    }\n",
       "\n",
       "    .dataframe thead th {\n",
       "        text-align: right;\n",
       "    }\n",
       "</style>\n",
       "<table border=\"1\" class=\"dataframe\">\n",
       "  <thead>\n",
       "    <tr style=\"text-align: right;\">\n",
       "      <th></th>\n",
       "      <th>index</th>\n",
       "      <th>system</th>\n",
       "      <th>user</th>\n",
       "      <th>target assiant</th>\n",
       "      <th>assiant</th>\n",
       "      <th>compare</th>\n",
       "    </tr>\n",
       "  </thead>\n",
       "  <tbody>\n",
       "    <tr>\n",
       "      <th>971</th>\n",
       "      <td>0</td>\n",
       "      <td>You are an radio transcript message transcript...</td>\n",
       "      <td>Zero point zero zero zero zero. Amazing.</td>\n",
       "      <td>General Spotting</td>\n",
       "      <td>General Spotting</td>\n",
       "      <td>True</td>\n",
       "    </tr>\n",
       "    <tr>\n",
       "      <th>972</th>\n",
       "      <td>0</td>\n",
       "      <td>You are an radio transcript message transcript...</td>\n",
       "      <td>Amazing. Hell of a job Larson. You just got t...</td>\n",
       "      <td>General Spotting</td>\n",
       "      <td>General Spotting</td>\n",
       "      <td>True</td>\n",
       "    </tr>\n",
       "    <tr>\n",
       "      <th>973</th>\n",
       "      <td>0</td>\n",
       "      <td>You are an radio transcript message transcript...</td>\n",
       "      <td>down low right here. Just said it was the fiv...</td>\n",
       "      <td>General Spotting</td>\n",
       "      <td>General Spotting</td>\n",
       "      <td>True</td>\n",
       "    </tr>\n",
       "    <tr>\n",
       "      <th>974</th>\n",
       "      <td>0</td>\n",
       "      <td>You are an radio transcript message transcript...</td>\n",
       "      <td>Larson.</td>\n",
       "      <td>General Spotting</td>\n",
       "      <td>General Spotting</td>\n",
       "      <td>True</td>\n",
       "    </tr>\n",
       "    <tr>\n",
       "      <th>975</th>\n",
       "      <td>0</td>\n",
       "      <td>You are an radio transcript message transcript...</td>\n",
       "      <td>They said it twice. You are the winner. You j...</td>\n",
       "      <td>General Spotting</td>\n",
       "      <td>General Spotting</td>\n",
       "      <td>True</td>\n",
       "    </tr>\n",
       "  </tbody>\n",
       "</table>\n",
       "</div>"
      ],
      "text/plain": [
       "     index                                             system  \\\n",
       "971      0  You are an radio transcript message transcript...   \n",
       "972      0  You are an radio transcript message transcript...   \n",
       "973      0  You are an radio transcript message transcript...   \n",
       "974      0  You are an radio transcript message transcript...   \n",
       "975      0  You are an radio transcript message transcript...   \n",
       "\n",
       "                                                  user    target assiant  \\\n",
       "971           Zero point zero zero zero zero. Amazing.  General Spotting   \n",
       "972   Amazing. Hell of a job Larson. You just got t...  General Spotting   \n",
       "973   down low right here. Just said it was the fiv...  General Spotting   \n",
       "974                                            Larson.  General Spotting   \n",
       "975   They said it twice. You are the winner. You j...  General Spotting   \n",
       "\n",
       "              assiant  compare  \n",
       "971  General Spotting     True  \n",
       "972  General Spotting     True  \n",
       "973  General Spotting     True  \n",
       "974  General Spotting     True  \n",
       "975  General Spotting     True  "
      ]
     },
     "execution_count": 5,
     "metadata": {},
     "output_type": "execute_result"
    }
   ],
   "source": [
    "# compare two columns and generate the result\n",
    "def compare(row):\n",
    "    \n",
    "    truth = row['target assiant'] == row['assiant']\n",
    "    return truth\n",
    "    \n",
    "df['compare'] = df.apply(compare, axis = 1)\n",
    "    \n",
    "# print the tail of the dataframe\n",
    "df.tail()\n",
    "    "
   ]
  },
  {
   "cell_type": "code",
   "execution_count": 6,
   "id": "067faf1e-5732-4de8-8f9a-b3c0096c94a9",
   "metadata": {
    "tags": []
   },
   "outputs": [
    {
     "name": "stdout",
     "output_type": "stream",
     "text": [
      "['General Spotting', 'Pit Strategy', 'Vehicle handling', 'Track Info', 'Spotting Racecraft', 'Vehicle Status', 'Race Start']\n"
     ]
    }
   ],
   "source": [
    "labels = df['target assiant'].value_counts().index.to_list()\n",
    "print(labels)"
   ]
  },
  {
   "cell_type": "code",
   "execution_count": 7,
   "id": "7b02cce5-4b16-47c8-892e-87dcc8186972",
   "metadata": {
    "tags": []
   },
   "outputs": [
    {
     "data": {
      "image/png": "[encoded data removed]",
      "text/plain": [
       "<Figure size 800x600 with 2 Axes>"
      ]
     },
     "metadata": {},
     "output_type": "display_data"
    }
   ],
   "source": [
    "import seaborn as sns\n",
    "# Compute the confusion matrix\n",
    "cm = confusion_matrix(df['target assiant'], df['assiant'], labels=labels)\n",
    "\n",
    "# Plotting using seaborn\n",
    "plt.figure(figsize=(8, 6))\n",
    "sns.heatmap(cm, annot=True, fmt='d', cmap='coolwarm', xticklabels=labels, yticklabels=labels, vmax = 20)\n",
    "plt.xlabel('Predicted labels')\n",
    "plt.ylabel('True labels')\n",
    "plt.title('Confusion Matrix Run 5')\n",
    "#plt.savefig('./eval_results/report/run5.png', pad_inches = 0.5 , bbox_inches = 'tight')\n",
    "plt.show()\n",
    "\n"
   ]
  },
  {
   "cell_type": "code",
   "execution_count": 8,
   "id": "7b8bc9c3-6d17-42dc-a3e5-4de6dca6547f",
   "metadata": {
    "tags": []
   },
   "outputs": [
    {
     "name": "stdout",
     "output_type": "stream",
     "text": [
      "                    precision    recall  f1-score   support\n",
      "\n",
      "  General Spotting       0.91      0.97      0.94       865\n",
      "      Pit Strategy       0.82      0.27      0.41        33\n",
      "  Vehicle handling       0.34      0.40      0.37        30\n",
      "        Track Info       0.67      0.11      0.19        18\n",
      "Spotting Racecraft       0.00      0.00      0.00        16\n",
      "    Vehicle Status       0.25      0.12      0.17         8\n",
      "        Race Start       0.00      0.00      0.00         6\n",
      "\n",
      "          accuracy                           0.89       976\n",
      "         macro avg       0.43      0.27      0.30       976\n",
      "      weighted avg       0.86      0.89      0.86       976\n",
      "\n",
      "Accuracy :  0.8862704918032787\n"
     ]
    },
    {
     "name": "stderr",
     "output_type": "stream",
     "text": [
      "C:\\Users\\tchen\\AppData\\Local\\Programs\\Python\\Python311\\Lib\\site-packages\\sklearn\\metrics\\_classification.py:1469: UndefinedMetricWarning: Precision and F-score are ill-defined and being set to 0.0 in labels with no predicted samples. Use `zero_division` parameter to control this behavior.\n",
      "  _warn_prf(average, modifier, msg_start, len(result))\n",
      "C:\\Users\\tchen\\AppData\\Local\\Programs\\Python\\Python311\\Lib\\site-packages\\sklearn\\metrics\\_classification.py:1469: UndefinedMetricWarning: Precision and F-score are ill-defined and being set to 0.0 in labels with no predicted samples. Use `zero_division` parameter to control this behavior.\n",
      "  _warn_prf(average, modifier, msg_start, len(result))\n",
      "C:\\Users\\tchen\\AppData\\Local\\Programs\\Python\\Python311\\Lib\\site-packages\\sklearn\\metrics\\_classification.py:1469: UndefinedMetricWarning: Precision and F-score are ill-defined and being set to 0.0 in labels with no predicted samples. Use `zero_division` parameter to control this behavior.\n",
      "  _warn_prf(average, modifier, msg_start, len(result))\n"
     ]
    }
   ],
   "source": [
    "from sklearn import metrics\n",
    "\n",
    "#report = \n",
    "print(metrics.classification_report(df['target assiant'], df['assiant'], labels=labels))\n",
    "\n",
    "print(\"Accuracy : \",  metrics.accuracy_score(df['target assiant'], df['assiant']))\n",
    "\n",
    "#with open('./eval_results/report/Run5.txt' , 'w') as file:\n",
    " #   file.write(report)\n",
    "    \n",
    "    \n"
   ]
  },
  {
   "cell_type": "code",
   "execution_count": null,
   "id": "aa325d8e-dc1d-48ca-87c7-236647cd462c",
   "metadata": {},
   "outputs": [],
   "source": []
  }
 ],
 "metadata": {
  "kernelspec": {
   "display_name": "Python 3 (ipykernel)",
   "language": "python",
   "name": "python3"
  },
  "language_info": {
   "codemirror_mode": {
    "name": "ipython",
    "version": 3
   },
   "file_extension": ".py",
   "mimetype": "text/x-python",
   "name": "python",
   "nbconvert_exporter": "python",
   "pygments_lexer": "ipython3",
   "version": "3.11.5"
  }
 },
 "nbformat": 4,
 "nbformat_minor": 5
}
