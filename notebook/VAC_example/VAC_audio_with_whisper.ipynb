{
 "cells": [
  {
   "cell_type": "code",
   "execution_count": 1,
   "id": "abbeeaeb-66c5-4dae-887b-5849f40761c0",
   "metadata": {
    "tags": []
   },
   "outputs": [],
   "source": [
    "import sounddevice as sd\n",
    "import numpy as np\n",
    "from transformers import WhisperProcessor, WhisperForConditionalGeneration\n",
    "import torchaudio\n",
    "import torch"
   ]
  },
  {
   "cell_type": "code",
   "execution_count": 2,
   "id": "251bad51-7967-4d03-a798-aa3728c781f5",
   "metadata": {
    "tags": []
   },
   "outputs": [],
   "source": [
    "model = WhisperForConditionalGeneration.from_pretrained(\"openai/whisper-medium.en\").to('cuda')\n",
    "processor = WhisperProcessor.from_pretrained(\"openai/whisper-medium.en\")"
   ]
  },
  {
   "cell_type": "code",
   "execution_count": 3,
   "id": "300c2981-2ea4-4994-b526-ab42c8b2444c",
   "metadata": {
    "tags": []
   },
   "outputs": [],
   "source": [
    "sd.default.samplerate = 16000\n",
    "sd.default.device = 1"
   ]
  },
  {
   "cell_type": "code",
   "execution_count": 27,
   "id": "dc28f7f4-c26d-4d8c-9e27-2124f8da2191",
   "metadata": {
    "tags": []
   },
   "outputs": [],
   "source": [
    "def transcribe_audio(audio_array, model, processor):\n",
    "    # transcrible audio using whisper model\n",
    "    print(\"transcribe function called\")\n",
    "    \n",
    "    inputs = processor(audio_array , sampling_rate = 16000 , return_tensors = 'pt').input_features\n",
    "    inputs = inputs.to('cuda')\n",
    "    \n",
    "    print(\"start to transcrpting\")\n",
    "    \n",
    "    \n",
    "    # generated new ids base on the inputs\n",
    "    output_ids = model.generate(inputs)\n",
    "    \n",
    "    # Decode tokens\n",
    "    output_text = processor.batch_decode(output_ids, skip_special_tokens = True)\n",
    "    \n",
    "    return output_text[0]\n",
    "    \n",
    "    \n",
    "    "
   ]
  },
  {
   "cell_type": "code",
   "execution_count": 5,
   "id": "09fc4f2a-19a4-4dab-a5c7-e5ea3345b50f",
   "metadata": {
    "tags": []
   },
   "outputs": [],
   "source": [
    "def audio_callback(indata, frames, time, status):\n",
    "    if status:\n",
    "        print(status)\n",
    "    # Append the incoming audio data to the global list\n",
    "    global audio_data\n",
    "    audio_data.append(indata.copy())"
   ]
  },
  {
   "cell_type": "code",
   "execution_count": 25,
   "id": "8048752e-110d-42e5-9c75-05ceed972126",
   "metadata": {
    "tags": []
   },
   "outputs": [],
   "source": [
    "def record_audio(duration = 5 , model = None, processor = None):\n",
    "    # define global variable for all audio samples\n",
    "    global audio_data\n",
    "    audio_data = []\n",
    "    \n",
    "    # define sampling rate\n",
    "    sampling_rate = 16000\n",
    "    channels = 1 # mono channels\n",
    "    \n",
    "    # Start the stream\n",
    "    with sd.InputStream(callback=audio_callback, samplerate=sampling_rate, channels=channels):\n",
    "        sd.sleep(duration * 1000)  # Sleep for the duration of the recording\n",
    "    \n",
    "    audio_array = np.concatenate(audio_data)\n",
    "    audio_array = audio_array.squeeze()\n",
    "    \n",
    "    print(audio_array.shape)\n",
    "    \n",
    "    transcription = transcribe_audio(audio_array, model, processor)\n",
    "    \n",
    "    \n",
    "    sd.wait()\n",
    "    #transcription = transcribe_audio(audio_record, model, processor)\n",
    "    return transcription\n",
    "\n",
    "    #return audio_array\n",
    "    "
   ]
  },
  {
   "cell_type": "code",
   "execution_count": null,
   "id": "6c833942-2c08-4972-9d40-96ccb917417f",
   "metadata": {
    "tags": []
   },
   "outputs": [],
   "source": [
    "while True:\n",
    "    print(\"Starting a new 10-second recording...\")\n",
    "    transcription = record_audio(10, model=model, processor=processor)\n",
    "    print(\"Recording completed. Transcription:\", transcription)\n",
    "    print(\"Waiting for the next recording...\")\n",
    "    sd.sleep(10)  # Delay before the next recording"
   ]
  },
  {
   "cell_type": "code",
   "execution_count": 16,
   "id": "8d71f3c4-5ef8-443f-8847-8b05de122f9c",
   "metadata": {
    "tags": []
   },
   "outputs": [
    {
     "name": "stdout",
     "output_type": "stream",
     "text": [
      "(79456,)\n"
     ]
    },
    {
     "data": {
      "image/png": "[encoded data removed]",
      "text/plain": [
       "<Figure size 640x480 with 1 Axes>"
      ]
     },
     "metadata": {},
     "output_type": "display_data"
    }
   ],
   "source": [
    "transcription = record_audio(5, model=model, processor=processor)\n",
    "\n",
    "\n",
    "\n",
    "import matplotlib.pyplot as plt\n",
    "plt.plot(transcription)\n",
    "plt.show()\n",
    "\n",
    "\n"
   ]
  },
  {
   "cell_type": "code",
   "execution_count": 7,
   "id": "dfa65073-6cfd-4ccd-a921-ee586c3353bb",
   "metadata": {
    "tags": []
   },
   "outputs": [
    {
     "ename": "NameError",
     "evalue": "name 'transcription' is not defined",
     "output_type": "error",
     "traceback": [
      "\u001b[1;31m---------------------------------------------------------------------------\u001b[0m",
      "\u001b[1;31mNameError\u001b[0m                                 Traceback (most recent call last)",
      "Cell \u001b[1;32mIn[7], line 1\u001b[0m\n\u001b[1;32m----> 1\u001b[0m trans \u001b[38;5;241m=\u001b[39m transcribe_audio(\u001b[43mtranscription\u001b[49m, model, processor)\n",
      "\u001b[1;31mNameError\u001b[0m: name 'transcription' is not defined"
     ]
    }
   ],
   "source": [
    "trans = transcribe_audio(transcription, model, processor)"
   ]
  }
 ],
 "metadata": {
  "kernelspec": {
   "display_name": "Python 3 (ipykernel)",
   "language": "python",
   "name": "python3"
  },
  "language_info": {
   "codemirror_mode": {
    "name": "ipython",
    "version": 3
   },
   "file_extension": ".py",
   "mimetype": "text/x-python",
   "name": "python",
   "nbconvert_exporter": "python",
   "pygments_lexer": "ipython3",
   "version": "3.11.5"
  }
 },
 "nbformat": 4,
 "nbformat_minor": 5
}
