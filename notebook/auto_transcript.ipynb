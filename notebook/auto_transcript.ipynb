{
 "cells": [
  {
   "cell_type": "code",
   "execution_count": 1,
   "id": "7ac62ff0-286d-4474-a2ad-85fa82d5b4d2",
   "metadata": {
    "tags": []
   },
   "outputs": [],
   "source": [
    "import sounddevice as sd\n",
    "import numpy as np\n",
    "from transformers import WhisperTokenizer, WhisperForConditionalGeneration, pipeline\n",
    "import torchaudio\n",
    "import torch\n",
    "from tkinter import Tk\n",
    "from tkinter.filedialog import askdirectory, askopenfilename\n",
    "import json\n",
    "import time\n",
    "import os"
   ]
  },
  {
   "cell_type": "code",
   "execution_count": 2,
   "id": "5a2476db-896c-4e53-88d7-cd29d4859852",
   "metadata": {
    "tags": []
   },
   "outputs": [],
   "source": [
    "pipe = pipeline('automatic-speech-recognition',\n",
    "                model = 'openai/whisper-medium.en',\n",
    "                chunk_length_s = 30,\n",
    "                device = 'cuda'\n",
    "               )\n",
    "\n"
   ]
  },
  {
   "cell_type": "code",
   "execution_count": 3,
   "id": "86be8025-5d55-4755-91bf-9ff6b6ef20f4",
   "metadata": {
    "tags": []
   },
   "outputs": [
    {
     "name": "stderr",
     "output_type": "stream",
     "text": [
      "C:\\Users\\tchen\\AppData\\Local\\Programs\\Python\\Python311\\Lib\\site-packages\\transformers\\models\\whisper\\modeling_whisper.py:697: UserWarning: 1Torch was not compiled with flash attention. (Triggered internally at ..\\aten\\src\\ATen\\native\\transformers\\cuda\\sdp_utils.cpp:263.)\n",
      "  attn_output = torch.nn.functional.scaled_dot_product_attention(\n"
     ]
    },
    {
     "name": "stdout",
     "output_type": "stream",
     "text": [
      "{'text': \" Look, I was going to go easy on you not to hurt your feelings, but I'm always going to get this one chance. Something's wrong, I can feel it. It's just a feeling I've got. Like something's about to happen, but I don't know what. If that means what I think it means, we're in trouble. Big trouble. Enemy is bananas as you say. I not taking any chances You're the back of the yak Backpack rap rap yap yap yap giddy yak nap The exact same time I attempt these lyrical acrobat stunts While I'm practicing that I'll still be able to break a motherfucking table over the back of a couple of faggots and crack it in half Only realized it was ironic I was under aftermath after the fact How could I not blow? All I do is drop F bombs Feel my wrath of attack rappers I have in a rough time period Here's a maxi pad, that's actually disastrously bad For the rat, for the masterfully constructing this masterpiece Everybody loves to root for a nuisance Hit the earth like an asteroid, need nothing but shoot for the moon since M.C.'s get taken to school with this music, cause I use it as a vehicle to bust the rhyme Now I lead a new school full of students Me? I'm a product of Rock M, Lock M, Sebastian, Pockin' W.A.Q., Hey Doc, Ryn, Yella, E.Z., Thank you, they got slim Inspired enough to one day grow up, blow up, and be in a position To meet Run DMC and induct them into the motherfuckin' Rock M Roll Hall of Fame even though I walk in the church and burst burst into a ball of flames Only Hall of Fame I be inducted in is the alcohol of fame on the wall of shame You fags think it's all a game, till I walk a flock of flames All for plankin', tell me what in the fuck are you thinkin'? Little gay lookin' boy, so gay I can barely say it with a straight face lookin' boy You witnessin' a massacre like you're watchin' a church gatherer and take place lookin' boy Boy, Vay that boy's gay, that's all they say lookin' boy You get a thumbs up pat on the back and the way to go from your label it be gay lookin' boy boy I feel like a rap god, rap god All my people from the front to the back nod, back nod The way I'm racing around the track call me NASCAR, NASCAR They're in heart of the trailer park, the white trash god Kneel before generals, are this planet's Krypton? No Asgard, Asgard So you be throwing, I be odin' Be floating, I'm omnipotent Let off then I'm reloadin' Immediately with these bombs I'm toatin' And I should not be walkin' I'm the walking dead but I'm just a talkin' a talking head A zombie floating But I got your mom deep throatin' I'm out my rhyme a noodle We have nothing in common, poodle I'm a dopamine Pinch yourself in the arm and pay homage, pupil It's me My honesty's brutal But it's honestly futile If I don't utilize what I do, though For good at least once in a while So I wanna make sure somewhere in this chicken scratch I scribble and doodle and up rhyme stuff Maybe try to help get some people through tough times But I gotta keep a few punch lines just in case cause even you unsigned Rappers are hungry looking at me like it's lunchtime I know there was a time where once I was king of the underground But I still rap like I'm on my Pharaoh munchgrind So I crunch rhymes but sometimes when you combine Up here with the skin color off mine you get too big And here they come trying to censor you like that one line I said on a back from the Mather't as big as I was, but I'm stuck in a time war from 2004-oh And I don't know what the fuck that you want I'm bored, you're pointless as Rapunzel With fucking corn rolls you like normal Fuck being normal And I just bought a new ray gun from the future Just to come and shoot ya Like when Fabulous made Ray J mad His fad said he would pick a fag and they were this pad singing to him Man, I'll be play pay, yeah no Man, oh man, that was a 24-7 special on the cable channel So Ray J went straight to the radio station the very next day Hey Fab, I'ma kill you I make elevator music, you make elevator music Oh he's too mainstream, well that's what they do when they get jealous they confuse it It's not hip-hop, it's pop, cause I found a hella way to fuse it With rock, shock rap, with dawg, don't lose yourself I make em lose it I don't know how to make songs like that, I don't know what words to use Let me know when it occurs to you while I'm rippin' any one of these verses that versus you It's curtains, I'm inadvertently hurtin' you, how many verses I gotta murder to? Prove that if you were half as nice in songs you could sacrifice virgins to? Drunks of Satan take the fucking wheel I'm all sleep in the front, pumping heavy D in the voice Still chunky but funky But in my head there's something I can feel tugging and struggling Angels fight with devils and here's what they want from me They're asking me to eliminate some of the women hate But if you're taking into consideration the bitter hate you're to have Then you may be a little patient and more sympathetic to the situation and understand the discrimination But fuck it, life's handing you lemons, make lemonade then But if I can't the women How the fuck am I supposed to bake them a cake then? Don't mistake the shit It's a fatal mistake If you think I need to be overseas and take a vacation To trip abroad and make a fall on a face and Don't be a retard, be a king Think not, why be a king When you can be a god\"}\n"
     ]
    }
   ],
   "source": [
    "Tk().withdraw()\n",
    "filename = askopenfilename()\n",
    "\n",
    "output = pipe(filename)\n",
    "\n",
    "print(output)"
   ]
  },
  {
   "cell_type": "code",
   "execution_count": null,
   "id": "986e3a6d-3e6c-469b-9c1d-33b3ba4f74a6",
   "metadata": {},
   "outputs": [],
   "source": []
  },
  {
   "cell_type": "code",
   "execution_count": 6,
   "id": "d6c0a91a-a28e-418d-802c-1ebdc9f8c22f",
   "metadata": {
    "tags": []
   },
   "outputs": [
    {
     "name": "stdout",
     "output_type": "stream",
     "text": [
      "{'input_ids': tensor([[50257, 50362,    34, 14079, 14490,    14,    83,  6607,    14,  3198,\n",
      "         24825,   532, 13671,    12, 23303,   292, 14954,    14, 38354,    14,\n",
      "         37906,  1628,    14,  7645,  6519,    62, 38200, 14094,    14, 11295,\n",
      "          2070,    14, 35230, 13482,    13,  3149,    18, 50256]],\n",
      "       device='cuda:0'), 'attention_mask': tensor([[1, 1, 1, 1, 1, 1, 1, 1, 1, 1, 1, 1, 1, 1, 1, 1, 1, 1, 1, 1, 1, 1, 1, 1,\n",
      "         1, 1, 1, 1, 1, 1, 1, 1, 1, 1, 1, 1, 1, 1]], device='cuda:0')}\n"
     ]
    }
   ],
   "source": [
    "print(input)"
   ]
  },
  {
   "cell_type": "code",
   "execution_count": 3,
   "id": "cdd39c5e-0b3e-4fec-bb41-d8c1ac1d714b",
   "metadata": {
    "tags": []
   },
   "outputs": [],
   "source": [
    "Tk().withdraw()\n",
    "\n",
    "# asking for the path where the radio wave file is at\n",
    "radio_folder = askdirectory()\n",
    "\n",
    "# asking for the target folder\n",
    "save_folder = askdirectory()"
   ]
  },
  {
   "cell_type": "code",
   "execution_count": null,
   "id": "d1fd4036-46b0-484a-a7b9-a5e3fc909867",
   "metadata": {},
   "outputs": [],
   "source": []
  },
  {
   "cell_type": "code",
   "execution_count": null,
   "id": "c2cdb08b-beb3-4c0e-9001-7b434c1cb659",
   "metadata": {},
   "outputs": [],
   "source": []
  }
 ],
 "metadata": {
  "kernelspec": {
   "display_name": "Python 3 (ipykernel)",
   "language": "python",
   "name": "python3"
  },
  "language_info": {
   "codemirror_mode": {
    "name": "ipython",
    "version": 3
   },
   "file_extension": ".py",
   "mimetype": "text/x-python",
   "name": "python",
   "nbconvert_exporter": "python",
   "pygments_lexer": "ipython3",
   "version": "3.11.5"
  }
 },
 "nbformat": 4,
 "nbformat_minor": 5
}
