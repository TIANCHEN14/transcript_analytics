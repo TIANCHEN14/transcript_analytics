{
 "cells": [
  {
   "cell_type": "code",
   "execution_count": 1,
   "id": "7ec50f7c-bb76-420f-be57-82823b43858d",
   "metadata": {
    "tags": []
   },
   "outputs": [],
   "source": [
    "import os\n",
    "import torch\n",
    "from transformers import AutoModelForCausalLM, AutoTokenizer, pipeline, AutoConfig, BitsAndBytesConfig, GenerationConfig\n",
    "from peft import LoraConfig, PeftModel\n",
    "from datasets import Dataset, load_dataset\n"
   ]
  },
  {
   "cell_type": "code",
   "execution_count": 2,
   "id": "8518081c-5d88-48bf-af16-fae25910c566",
   "metadata": {
    "tags": []
   },
   "outputs": [],
   "source": [
    "# Quantization configuration\n",
    "# we are going to change the model from fp16 to int8\n",
    "bnb_config = BitsAndBytesConfig(\n",
    "    load_in_8bit = True,\n",
    "    \n",
    ")"
   ]
  },
  {
   "cell_type": "code",
   "execution_count": 3,
   "id": "70f04673-e8d1-4286-84f8-e72ff662d58a",
   "metadata": {
    "tags": []
   },
   "outputs": [
    {
     "name": "stderr",
     "output_type": "stream",
     "text": [
      "Special tokens have been added in the vocabulary, make sure the associated word embeddings are fine-tuned or trained.\n"
     ]
    }
   ],
   "source": [
    "# load model with automodel and autotokenizer\n",
    "model_id = \"meta-llama/Meta-Llama-3-8B-Instruct\"\n",
    "#model = AutoModelForCausalLM.from_pretrained(model_id,\n",
    "                                            #quantization_config = bnb_config,\n",
    "                                            #device_map = \"cuda\")\n",
    "tokenizer = AutoTokenizer.from_pretrained(model_id)\n"
   ]
  },
  {
   "cell_type": "code",
   "execution_count": 4,
   "id": "fe89daee-c7b2-4a56-8374-9ac9ffa33d99",
   "metadata": {
    "tags": []
   },
   "outputs": [
    {
     "name": "stdout",
     "output_type": "stream",
     "text": [
      "['<|begin_of_text|><|start_header_id|>system<|end_header_id|>\\n\\nYou are an cooking assienant that teach me how to cook<|eot_id|><|start_header_id|>user<|end_header_id|>\\n\\nHow to cook an chicken<|eot_id|>', '<|begin_of_text|><|start_header_id|>system<|end_header_id|>\\n\\nYou are an cooking assienant that teach me how to cook<|eot_id|><|start_header_id|>user<|end_header_id|>\\n\\nHow to cook beef<|eot_id|>']\n"
     ]
    }
   ],
   "source": [
    "messages = [\n",
    "    [{\"role\" : \"system\" , \"content\" : \"You are an cooking assienant that teach me how to cook\"},\n",
    "    {\"role\" : \"user\" , \"content\" : \"How to cook an chicken\"}],\n",
    "    \n",
    "    [{\"role\" : \"system\" , \"content\" : \"You are an cooking assienant that teach me how to cook\"},\n",
    "    {\"role\" : \"user\" , \"content\" : \"How to cook beef\"}],\n",
    "]\n",
    "\n",
    "prompt_list = []\n",
    "\n",
    "for mess in messages:\n",
    "    prompt = tokenizer.apply_chat_template(\n",
    "        mess,\n",
    "        tokenize = False\n",
    "        )\n",
    "    \n",
    "    prompt_list.append(prompt)\n",
    "\n",
    "print(prompt_list)"
   ]
  },
  {
   "cell_type": "code",
   "execution_count": null,
   "id": "8cd8641e-873c-4a01-91e0-f86888155226",
   "metadata": {},
   "outputs": [],
   "source": []
  }
 ],
 "metadata": {
  "kernelspec": {
   "display_name": "Python 3 (ipykernel)",
   "language": "python",
   "name": "python3"
  },
  "language_info": {
   "codemirror_mode": {
    "name": "ipython",
    "version": 3
   },
   "file_extension": ".py",
   "mimetype": "text/x-python",
   "name": "python",
   "nbconvert_exporter": "python",
   "pygments_lexer": "ipython3",
   "version": "3.11.5"
  },
  "toc-autonumbering": true,
  "toc-showcode": false
 },
 "nbformat": 4,
 "nbformat_minor": 5
}
