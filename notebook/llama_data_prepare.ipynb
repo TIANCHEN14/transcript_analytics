{
 "cells": [
  {
   "cell_type": "code",
   "execution_count": 1,
   "id": "69fa7f9b-0511-487c-aedd-9e3281593834",
   "metadata": {
    "tags": []
   },
   "outputs": [],
   "source": [
    "import json\n",
    "from tkinter import Tk\n",
    "from tkinter.filedialog import askopenfilename\n"
   ]
  },
  {
   "cell_type": "code",
   "execution_count": 3,
   "id": "2b71635d-fda8-464f-86bb-844940d2c99b",
   "metadata": {
    "tags": []
   },
   "outputs": [],
   "source": [
    "# import all three file from previous dataset\n",
    "Tk().withdraw()\n",
    "filename_1 = askopenfilename()\n",
    "filename_2 = askopenfilename()\n",
    "filename_3 = askopenfilename()"
   ]
  },
  {
   "cell_type": "code",
   "execution_count": 5,
   "id": "3542e3ea-4526-4485-bc33-3399f55ab776",
   "metadata": {
    "tags": []
   },
   "outputs": [],
   "source": [
    "# import file 1\n",
    "with open (filename_1 , \"r\") as f:\n",
    "    dataset1 = json.load(f)"
   ]
  },
  {
   "cell_type": "code",
   "execution_count": 6,
   "id": "fc8e62a4-dae9-46e2-beba-259364acfdfd",
   "metadata": {
    "tags": []
   },
   "outputs": [],
   "source": [
    "# import file 2\n",
    "with open (filename_2 , \"r\") as f:\n",
    "    dataset2 = json.load(f)\n",
    "#import file 3\n",
    "with open (filename_3 , \"r\") as f:\n",
    "    dataset3 = json.load(f)"
   ]
  },
  {
   "cell_type": "code",
   "execution_count": 7,
   "id": "0859e33d-8535-4261-8afc-e920808f1175",
   "metadata": {
    "tags": []
   },
   "outputs": [
    {
     "name": "stdout",
     "output_type": "stream",
     "text": [
      "<class 'list'>\n"
     ]
    }
   ],
   "source": [
    "print(type(dataset1))\n"
   ]
  },
  {
   "cell_type": "code",
   "execution_count": 8,
   "id": "8e8e032c-1414-4b41-abd5-f1597dcb5833",
   "metadata": {
    "tags": []
   },
   "outputs": [],
   "source": [
    "# combine all the list together\n",
    "combine_data = dataset1 + dataset2 + dataset3\n",
    "\n",
    "new_filename = filename_1.replace(\"_1.json\" , \"combine.json\")\n",
    "\n",
    "with open (new_filename , \"w\") as w:\n",
    "    json.dump(combine_data, w)\n"
   ]
  },
  {
   "cell_type": "code",
   "execution_count": null,
   "id": "47f48d21-2d68-466f-beae-e5b1de82450d",
   "metadata": {
    "tags": []
   },
   "outputs": [],
   "source": [
    "# llama style training data prepare\n",
    "# it is something like this\n",
    "# {'text' : \"### Human: here is where you put your input at ### Assistant: response from the LLM\" \n",
    "llama_list = []\n",
    "\n",
    "for index, content in enumerate(combine_data):\n",
    "    human_text = \"### Human : Please classify what kind of comment is this \" + content['input']\n",
    "    assis_text = \" ### Assistant : \" + content[\"clasiifer\"]\n",
    "    line_text = {}\n",
    "    line_text['text'] = human_text + assis_text\n",
    "    \n",
    "    llama_list.insert(index , line_text)\n",
    "    \n",
    "print(llama_list)\n"
   ]
  },
  {
   "cell_type": "code",
   "execution_count": 13,
   "id": "5545f6f6-2363-4bd7-ad92-5a86a4499557",
   "metadata": {
    "tags": []
   },
   "outputs": [],
   "source": [
    "llama_filename = filename_1.replace(\"_1.json\" , \"_llama_combine.json\")\n",
    "\n",
    "with open (llama_filename , \"w\") as w:\n",
    "    json.dump(llama_list, w)"
   ]
  },
  {
   "cell_type": "code",
   "execution_count": null,
   "id": "cc72c139-64d9-43d9-be24-0896d2027776",
   "metadata": {},
   "outputs": [],
   "source": []
  }
 ],
 "metadata": {
  "kernelspec": {
   "display_name": "Python 3 (ipykernel)",
   "language": "python",
   "name": "python3"
  },
  "language_info": {
   "codemirror_mode": {
    "name": "ipython",
    "version": 3
   },
   "file_extension": ".py",
   "mimetype": "text/x-python",
   "name": "python",
   "nbconvert_exporter": "python",
   "pygments_lexer": "ipython3",
   "version": "3.11.5"
  }
 },
 "nbformat": 4,
 "nbformat_minor": 5
}
