{
 "cells": [
  {
   "cell_type": "code",
   "execution_count": 1,
   "id": "6a79391e-7e8a-4c76-a5ce-e4a11bf880be",
   "metadata": {
    "tags": []
   },
   "outputs": [
    {
     "data": {
      "text/plain": [
       "''"
      ]
     },
     "execution_count": 1,
     "metadata": {},
     "output_type": "execute_result"
    }
   ],
   "source": [
    "import json\n",
    "import matplotlib.pyplot as plt\n",
    "import pandas as pd\n",
    "from tkinter import Tk\n",
    "from tkinter.filedialog import askopenfilename, askdirectory\n",
    "\n",
    "Tk().withdraw()"
   ]
  },
  {
   "cell_type": "code",
   "execution_count": 2,
   "id": "90c59a56-752a-40be-959d-0eb96a57c032",
   "metadata": {
    "tags": []
   },
   "outputs": [],
   "source": [
    "filename_1 = askopenfilename()\n",
    "filename_2 = askopenfilename()\n",
    "filename_3 = askopenfilename()\n",
    "filename_4 = askopenfilename()"
   ]
  },
  {
   "cell_type": "code",
   "execution_count": null,
   "id": "11925862-4f34-406f-8097-92a68e2f7e80",
   "metadata": {
    "tags": []
   },
   "outputs": [],
   "source": [
    "data_dict = {}\n",
    "\n",
    "with open(filename_1 , \"r\") as f:\n",
    "    temp_dict = json.load(f)\n",
    "    data_dict['1'] = temp_dict['segments'].copy()\n",
    "    \n",
    "print(data_dict)"
   ]
  },
  {
   "cell_type": "code",
   "execution_count": 8,
   "id": "8c6c5771-b73a-4e86-82d0-b1283a2bd6fa",
   "metadata": {
    "tags": []
   },
   "outputs": [
    {
     "name": "stdout",
     "output_type": "stream",
     "text": [
      "dict_keys(['1', '2', '3', '4'])\n"
     ]
    }
   ],
   "source": [
    "with open(filename_2 , \"r\") as f:\n",
    "    temp_dict = json.load(f)\n",
    "    data_dict['2'] = temp_dict['segments'].copy()\n",
    "    \n",
    "with open(filename_3 , \"r\") as f:\n",
    "    temp_dict = json.load(f)\n",
    "    data_dict['3'] = temp_dict['segments'].copy()\n",
    "    \n",
    "with open(filename_4 , \"r\") as f:\n",
    "    temp_dict = json.load(f)\n",
    "    data_dict['4'] = temp_dict['segments'].copy()\n",
    "    \n",
    "print(data_dict.keys())"
   ]
  },
  {
   "cell_type": "code",
   "execution_count": 11,
   "id": "fbded15b-3576-409c-a6d0-58e7eeb2bc5f",
   "metadata": {
    "tags": []
   },
   "outputs": [
    {
     "name": "stdout",
     "output_type": "stream",
     "text": [
      "<class 'list'>\n"
     ]
    }
   ],
   "source": [
    "print(type(data_dict['1']))"
   ]
  },
  {
   "cell_type": "code",
   "execution_count": 18,
   "id": "b811326b-0932-4cc6-a53e-38af971c4699",
   "metadata": {
    "tags": []
   },
   "outputs": [],
   "source": [
    "# create an panda dataframe for all the text ids\n",
    "text_pd = pd.DataFrame()\n",
    "\n",
    "# loop though all the data dictinary \n",
    "for keys in data_dict:\n",
    "    # go though all the list and append all the text in the dataframe\n",
    "    for index, content in enumerate(data_dict[keys]):\n",
    "        content_pd = pd.DataFrame([content])\n",
    "        text_pd = pd.concat([text_pd, content_pd])\n",
    "\n"
   ]
  },
  {
   "cell_type": "code",
   "execution_count": 20,
   "id": "68424c81-3f1b-4c31-91d4-42fdc35fc2b8",
   "metadata": {
    "tags": []
   },
   "outputs": [],
   "source": [
    "text_pd.to_excel(\"output.xlsx\")"
   ]
  },
  {
   "cell_type": "code",
   "execution_count": 22,
   "id": "99d71eab-4427-41c5-8f6d-78530d8c3d88",
   "metadata": {
    "tags": []
   },
   "outputs": [
    {
     "data": {
      "text/plain": [
       "Index(['id', 'seek', 'start', 'end', 'text', 'tokens', 'temperature',\n",
       "       'avg_logprob', 'compression_ratio', 'no_speech_prob'],\n",
       "      dtype='object')"
      ]
     },
     "execution_count": 22,
     "metadata": {},
     "output_type": "execute_result"
    }
   ],
   "source": [
    "text_pd.columns"
   ]
  },
  {
   "cell_type": "code",
   "execution_count": 29,
   "id": "677fa3f6-71c4-43e0-a812-b8bcd510a11a",
   "metadata": {
    "tags": []
   },
   "outputs": [
    {
     "data": {
      "text/plain": [
       "' Outside.'"
      ]
     },
     "execution_count": 29,
     "metadata": {},
     "output_type": "execute_result"
    }
   ],
   "source": [
    "text_pd['text'].iat[2]"
   ]
  },
  {
   "cell_type": "code",
   "execution_count": 30,
   "id": "306be947-3ca4-4124-9314-735149bfbb72",
   "metadata": {
    "tags": []
   },
   "outputs": [],
   "source": [
    "text_pd['word'] = text_pd['text'].str.split()\n",
    "\n"
   ]
  },
  {
   "cell_type": "code",
   "execution_count": 36,
   "id": "1e901064-ece8-4247-a410-194fce7dae07",
   "metadata": {
    "tags": []
   },
   "outputs": [],
   "source": [
    "all_words = [word for sublist in text_pd['word'] for word in sublist ]\n",
    "\n",
    "import re\n",
    "# Convert each word to lowercase and remove non-alphabetic characters\n",
    "cleaned_words = [re.sub(r'[^a-z]+', '', word.lower()) for word in all_words]\n",
    "\n",
    "#print(cleaned_words)"
   ]
  },
  {
   "cell_type": "code",
   "execution_count": null,
   "id": "d3e35b54-df50-4269-8d54-3910db0cad19",
   "metadata": {
    "tags": []
   },
   "outputs": [],
   "source": [
    "from collections import Counter\n",
    "\n",
    "words_count = Counter(cleaned_words)\n",
    "\n",
    "print(words_count)\n"
   ]
  },
  {
   "cell_type": "code",
   "execution_count": 39,
   "id": "d35858db-7b03-49f9-a649-c32faa5bc142",
   "metadata": {
    "tags": []
   },
   "outputs": [],
   "source": [
    "words, count = zip(*words_count.items())"
   ]
  },
  {
   "cell_type": "code",
   "execution_count": 49,
   "id": "a2e5e0f5-40b5-4ac7-a961-584599488f46",
   "metadata": {
    "tags": []
   },
   "outputs": [
    {
     "name": "stdout",
     "output_type": "stream",
     "text": [
      "<class 'tuple'>\n",
      "<class 'tuple'>\n"
     ]
    }
   ],
   "source": [
    "print(type(words))\n",
    "print(type(count))"
   ]
  },
  {
   "cell_type": "code",
   "execution_count": 51,
   "id": "e8f2351b-a65e-477f-b138-5c43fe9842fb",
   "metadata": {
    "tags": []
   },
   "outputs": [],
   "source": [
    "csv_df = pd.DataFrame()\n",
    "\n",
    "csv_df = csv_df.assign(word = words)"
   ]
  },
  {
   "cell_type": "code",
   "execution_count": 53,
   "id": "3f6e3102-907f-48d4-8a0a-890faec76a05",
   "metadata": {
    "tags": []
   },
   "outputs": [],
   "source": [
    "csv_df = csv_df.assign(counts = count)\n",
    "csv_df.to_excel(\"words_count.xlsx\")"
   ]
  },
  {
   "cell_type": "code",
   "execution_count": null,
   "id": "47af34c7-548b-4b74-ad3b-b7c18907b90d",
   "metadata": {},
   "outputs": [],
   "source": []
  }
 ],
 "metadata": {
  "kernelspec": {
   "display_name": "Python 3 (ipykernel)",
   "language": "python",
   "name": "python3"
  },
  "language_info": {
   "codemirror_mode": {
    "name": "ipython",
    "version": 3
   },
   "file_extension": ".py",
   "mimetype": "text/x-python",
   "name": "python",
   "nbconvert_exporter": "python",
   "pygments_lexer": "ipython3",
   "version": "3.11.5"
  }
 },
 "nbformat": 4,
 "nbformat_minor": 5
}
