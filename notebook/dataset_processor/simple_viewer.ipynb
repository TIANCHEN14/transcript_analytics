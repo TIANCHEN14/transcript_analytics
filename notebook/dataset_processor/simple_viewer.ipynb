{
 "cells": [
  {
   "cell_type": "code",
   "execution_count": 1,
   "id": "e42710bf-2faf-4b51-baaf-ddc3c9752867",
   "metadata": {
    "tags": []
   },
   "outputs": [],
   "source": [
    "import json\n",
    "from tkinter import Tk\n",
    "from tkinter.filedialog import askopenfilename\n",
    "\n",
    "Tk().withdraw()\n",
    "filename = askopenfilename()"
   ]
  },
  {
   "cell_type": "code",
   "execution_count": 2,
   "id": "a2bf9202-38b2-4a78-b512-945a0ed67f17",
   "metadata": {
    "tags": []
   },
   "outputs": [
    {
     "name": "stdout",
     "output_type": "stream",
     "text": [
      "<class 'dict'>\n"
     ]
    }
   ],
   "source": [
    "# open json file \n",
    "\n",
    "f = open(filename)\n",
    "data = json.load(f)\n",
    "\n",
    "print(type(data))"
   ]
  },
  {
   "cell_type": "code",
   "execution_count": 7,
   "id": "417ee87d-64f4-4e81-b031-f7d458afb0de",
   "metadata": {
    "tags": []
   },
   "outputs": [
    {
     "name": "stdout",
     "output_type": "stream",
     "text": [
      "<class 'dict'>\n"
     ]
    }
   ],
   "source": [
    "print(type(data['segments'][0]))"
   ]
  },
  {
   "cell_type": "code",
   "execution_count": 8,
   "id": "8a2b9646-2dd2-45b0-9316-7f04c9cb7250",
   "metadata": {
    "tags": []
   },
   "outputs": [
    {
     "name": "stdout",
     "output_type": "stream",
     "text": [
      "dict_keys(['id', 'seek', 'start', 'end', 'text', 'tokens', 'temperature', 'avg_logprob', 'compression_ratio', 'no_speech_prob'])\n"
     ]
    }
   ],
   "source": [
    "single_seg = data['segments'][0]\n",
    "\n",
    "print(single_seg.keys())"
   ]
  },
  {
   "cell_type": "code",
   "execution_count": null,
   "id": "9385d120-e711-42d3-abfe-9775d2f67ac9",
   "metadata": {},
   "outputs": [],
   "source": []
  }
 ],
 "metadata": {
  "kernelspec": {
   "display_name": "Python 3 (ipykernel)",
   "language": "python",
   "name": "python3"
  },
  "language_info": {
   "codemirror_mode": {
    "name": "ipython",
    "version": 3
   },
   "file_extension": ".py",
   "mimetype": "text/x-python",
   "name": "python",
   "nbconvert_exporter": "python",
   "pygments_lexer": "ipython3",
   "version": "3.11.5"
  }
 },
 "nbformat": 4,
 "nbformat_minor": 5
}
